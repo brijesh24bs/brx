{
  "nbformat": 4,
  "nbformat_minor": 0,
  "metadata": {
    "colab": {
      "provenance": []
    },
    "kernelspec": {
      "name": "python3",
      "display_name": "Python 3"
    },
    "language_info": {
      "name": "python"
    },
    "widgets": {
      "application/vnd.jupyter.widget-state+json": {
        "2fa78cd8928549d9a7c1f58f17aa64bb": {
          "model_module": "@jupyter-widgets/controls",
          "model_name": "HBoxModel",
          "model_module_version": "1.5.0",
          "state": {
            "_dom_classes": [],
            "_model_module": "@jupyter-widgets/controls",
            "_model_module_version": "1.5.0",
            "_model_name": "HBoxModel",
            "_view_count": null,
            "_view_module": "@jupyter-widgets/controls",
            "_view_module_version": "1.5.0",
            "_view_name": "HBoxView",
            "box_style": "",
            "children": [
              "IPY_MODEL_3434169956df44f29ebc07f5dfb6ad4f",
              "IPY_MODEL_83dab76c9dc54b338412d0e0470bc2c0",
              "IPY_MODEL_1c419df4431f4b219a7869c4e03e37bc"
            ],
            "layout": "IPY_MODEL_7732551abba043f597d08c2f543c63e1"
          }
        },
        "3434169956df44f29ebc07f5dfb6ad4f": {
          "model_module": "@jupyter-widgets/controls",
          "model_name": "HTMLModel",
          "model_module_version": "1.5.0",
          "state": {
            "_dom_classes": [],
            "_model_module": "@jupyter-widgets/controls",
            "_model_module_version": "1.5.0",
            "_model_name": "HTMLModel",
            "_view_count": null,
            "_view_module": "@jupyter-widgets/controls",
            "_view_module_version": "1.5.0",
            "_view_name": "HTMLView",
            "description": "",
            "description_tooltip": null,
            "layout": "IPY_MODEL_a2b15763690748f1bfb1f5c4b8cadca3",
            "placeholder": "​",
            "style": "IPY_MODEL_4a3665733f6d4c35995f949d090fff9e",
            "value": "Downloading data: 100%"
          }
        },
        "83dab76c9dc54b338412d0e0470bc2c0": {
          "model_module": "@jupyter-widgets/controls",
          "model_name": "FloatProgressModel",
          "model_module_version": "1.5.0",
          "state": {
            "_dom_classes": [],
            "_model_module": "@jupyter-widgets/controls",
            "_model_module_version": "1.5.0",
            "_model_name": "FloatProgressModel",
            "_view_count": null,
            "_view_module": "@jupyter-widgets/controls",
            "_view_module_version": "1.5.0",
            "_view_name": "ProgressView",
            "bar_style": "success",
            "description": "",
            "description_tooltip": null,
            "layout": "IPY_MODEL_e492e28d5a144733af656b0101ae180e",
            "max": 8252554086,
            "min": 0,
            "orientation": "horizontal",
            "style": "IPY_MODEL_604165e84d2848968bb430b164b3f812",
            "value": 8252554086
          }
        },
        "1c419df4431f4b219a7869c4e03e37bc": {
          "model_module": "@jupyter-widgets/controls",
          "model_name": "HTMLModel",
          "model_module_version": "1.5.0",
          "state": {
            "_dom_classes": [],
            "_model_module": "@jupyter-widgets/controls",
            "_model_module_version": "1.5.0",
            "_model_name": "HTMLModel",
            "_view_count": null,
            "_view_module": "@jupyter-widgets/controls",
            "_view_module_version": "1.5.0",
            "_view_name": "HTMLView",
            "description": "",
            "description_tooltip": null,
            "layout": "IPY_MODEL_26a2246c340947fc9a3c117761f6314b",
            "placeholder": "​",
            "style": "IPY_MODEL_8198d7935a4343c58d2942b791c4f083",
            "value": " 8.25G/8.25G [02:52&lt;00:00, 31.5MB/s]"
          }
        },
        "7732551abba043f597d08c2f543c63e1": {
          "model_module": "@jupyter-widgets/base",
          "model_name": "LayoutModel",
          "model_module_version": "1.2.0",
          "state": {
            "_model_module": "@jupyter-widgets/base",
            "_model_module_version": "1.2.0",
            "_model_name": "LayoutModel",
            "_view_count": null,
            "_view_module": "@jupyter-widgets/base",
            "_view_module_version": "1.2.0",
            "_view_name": "LayoutView",
            "align_content": null,
            "align_items": null,
            "align_self": null,
            "border": null,
            "bottom": null,
            "display": null,
            "flex": null,
            "flex_flow": null,
            "grid_area": null,
            "grid_auto_columns": null,
            "grid_auto_flow": null,
            "grid_auto_rows": null,
            "grid_column": null,
            "grid_gap": null,
            "grid_row": null,
            "grid_template_areas": null,
            "grid_template_columns": null,
            "grid_template_rows": null,
            "height": null,
            "justify_content": null,
            "justify_items": null,
            "left": null,
            "margin": null,
            "max_height": null,
            "max_width": null,
            "min_height": null,
            "min_width": null,
            "object_fit": null,
            "object_position": null,
            "order": null,
            "overflow": null,
            "overflow_x": null,
            "overflow_y": null,
            "padding": null,
            "right": null,
            "top": null,
            "visibility": null,
            "width": null
          }
        },
        "a2b15763690748f1bfb1f5c4b8cadca3": {
          "model_module": "@jupyter-widgets/base",
          "model_name": "LayoutModel",
          "model_module_version": "1.2.0",
          "state": {
            "_model_module": "@jupyter-widgets/base",
            "_model_module_version": "1.2.0",
            "_model_name": "LayoutModel",
            "_view_count": null,
            "_view_module": "@jupyter-widgets/base",
            "_view_module_version": "1.2.0",
            "_view_name": "LayoutView",
            "align_content": null,
            "align_items": null,
            "align_self": null,
            "border": null,
            "bottom": null,
            "display": null,
            "flex": null,
            "flex_flow": null,
            "grid_area": null,
            "grid_auto_columns": null,
            "grid_auto_flow": null,
            "grid_auto_rows": null,
            "grid_column": null,
            "grid_gap": null,
            "grid_row": null,
            "grid_template_areas": null,
            "grid_template_columns": null,
            "grid_template_rows": null,
            "height": null,
            "justify_content": null,
            "justify_items": null,
            "left": null,
            "margin": null,
            "max_height": null,
            "max_width": null,
            "min_height": null,
            "min_width": null,
            "object_fit": null,
            "object_position": null,
            "order": null,
            "overflow": null,
            "overflow_x": null,
            "overflow_y": null,
            "padding": null,
            "right": null,
            "top": null,
            "visibility": null,
            "width": null
          }
        },
        "4a3665733f6d4c35995f949d090fff9e": {
          "model_module": "@jupyter-widgets/controls",
          "model_name": "DescriptionStyleModel",
          "model_module_version": "1.5.0",
          "state": {
            "_model_module": "@jupyter-widgets/controls",
            "_model_module_version": "1.5.0",
            "_model_name": "DescriptionStyleModel",
            "_view_count": null,
            "_view_module": "@jupyter-widgets/base",
            "_view_module_version": "1.2.0",
            "_view_name": "StyleView",
            "description_width": ""
          }
        },
        "e492e28d5a144733af656b0101ae180e": {
          "model_module": "@jupyter-widgets/base",
          "model_name": "LayoutModel",
          "model_module_version": "1.2.0",
          "state": {
            "_model_module": "@jupyter-widgets/base",
            "_model_module_version": "1.2.0",
            "_model_name": "LayoutModel",
            "_view_count": null,
            "_view_module": "@jupyter-widgets/base",
            "_view_module_version": "1.2.0",
            "_view_name": "LayoutView",
            "align_content": null,
            "align_items": null,
            "align_self": null,
            "border": null,
            "bottom": null,
            "display": null,
            "flex": null,
            "flex_flow": null,
            "grid_area": null,
            "grid_auto_columns": null,
            "grid_auto_flow": null,
            "grid_auto_rows": null,
            "grid_column": null,
            "grid_gap": null,
            "grid_row": null,
            "grid_template_areas": null,
            "grid_template_columns": null,
            "grid_template_rows": null,
            "height": null,
            "justify_content": null,
            "justify_items": null,
            "left": null,
            "margin": null,
            "max_height": null,
            "max_width": null,
            "min_height": null,
            "min_width": null,
            "object_fit": null,
            "object_position": null,
            "order": null,
            "overflow": null,
            "overflow_x": null,
            "overflow_y": null,
            "padding": null,
            "right": null,
            "top": null,
            "visibility": null,
            "width": null
          }
        },
        "604165e84d2848968bb430b164b3f812": {
          "model_module": "@jupyter-widgets/controls",
          "model_name": "ProgressStyleModel",
          "model_module_version": "1.5.0",
          "state": {
            "_model_module": "@jupyter-widgets/controls",
            "_model_module_version": "1.5.0",
            "_model_name": "ProgressStyleModel",
            "_view_count": null,
            "_view_module": "@jupyter-widgets/base",
            "_view_module_version": "1.2.0",
            "_view_name": "StyleView",
            "bar_color": null,
            "description_width": ""
          }
        },
        "26a2246c340947fc9a3c117761f6314b": {
          "model_module": "@jupyter-widgets/base",
          "model_name": "LayoutModel",
          "model_module_version": "1.2.0",
          "state": {
            "_model_module": "@jupyter-widgets/base",
            "_model_module_version": "1.2.0",
            "_model_name": "LayoutModel",
            "_view_count": null,
            "_view_module": "@jupyter-widgets/base",
            "_view_module_version": "1.2.0",
            "_view_name": "LayoutView",
            "align_content": null,
            "align_items": null,
            "align_self": null,
            "border": null,
            "bottom": null,
            "display": null,
            "flex": null,
            "flex_flow": null,
            "grid_area": null,
            "grid_auto_columns": null,
            "grid_auto_flow": null,
            "grid_auto_rows": null,
            "grid_column": null,
            "grid_gap": null,
            "grid_row": null,
            "grid_template_areas": null,
            "grid_template_columns": null,
            "grid_template_rows": null,
            "height": null,
            "justify_content": null,
            "justify_items": null,
            "left": null,
            "margin": null,
            "max_height": null,
            "max_width": null,
            "min_height": null,
            "min_width": null,
            "object_fit": null,
            "object_position": null,
            "order": null,
            "overflow": null,
            "overflow_x": null,
            "overflow_y": null,
            "padding": null,
            "right": null,
            "top": null,
            "visibility": null,
            "width": null
          }
        },
        "8198d7935a4343c58d2942b791c4f083": {
          "model_module": "@jupyter-widgets/controls",
          "model_name": "DescriptionStyleModel",
          "model_module_version": "1.5.0",
          "state": {
            "_model_module": "@jupyter-widgets/controls",
            "_model_module_version": "1.5.0",
            "_model_name": "DescriptionStyleModel",
            "_view_count": null,
            "_view_module": "@jupyter-widgets/base",
            "_view_module_version": "1.2.0",
            "_view_name": "StyleView",
            "description_width": ""
          }
        },
        "8cf64ee94611421686716f6146364ec7": {
          "model_module": "@jupyter-widgets/controls",
          "model_name": "HBoxModel",
          "model_module_version": "1.5.0",
          "state": {
            "_dom_classes": [],
            "_model_module": "@jupyter-widgets/controls",
            "_model_module_version": "1.5.0",
            "_model_name": "HBoxModel",
            "_view_count": null,
            "_view_module": "@jupyter-widgets/controls",
            "_view_module_version": "1.5.0",
            "_view_name": "HBoxView",
            "box_style": "",
            "children": [
              "IPY_MODEL_f3c39ae7e2fc43b9a32aeb8bd5e5c1d4",
              "IPY_MODEL_e435f4f3f0b44941a04dd8a6d1723cbc",
              "IPY_MODEL_07d47facbd244b0b9f0c103acb93b63b"
            ],
            "layout": "IPY_MODEL_c6598300a9144d1fb322a1a34d70279b"
          }
        },
        "f3c39ae7e2fc43b9a32aeb8bd5e5c1d4": {
          "model_module": "@jupyter-widgets/controls",
          "model_name": "HTMLModel",
          "model_module_version": "1.5.0",
          "state": {
            "_dom_classes": [],
            "_model_module": "@jupyter-widgets/controls",
            "_model_module_version": "1.5.0",
            "_model_name": "HTMLModel",
            "_view_count": null,
            "_view_module": "@jupyter-widgets/controls",
            "_view_module_version": "1.5.0",
            "_view_name": "HTMLView",
            "description": "",
            "description_tooltip": null,
            "layout": "IPY_MODEL_f770d270c63a4caaaec872c0e24eadb5",
            "placeholder": "​",
            "style": "IPY_MODEL_88a791ab2e3c427591cc5fa8034b920c",
            "value": "Generating train split: "
          }
        },
        "e435f4f3f0b44941a04dd8a6d1723cbc": {
          "model_module": "@jupyter-widgets/controls",
          "model_name": "FloatProgressModel",
          "model_module_version": "1.5.0",
          "state": {
            "_dom_classes": [],
            "_model_module": "@jupyter-widgets/controls",
            "_model_module_version": "1.5.0",
            "_model_name": "FloatProgressModel",
            "_view_count": null,
            "_view_module": "@jupyter-widgets/controls",
            "_view_module_version": "1.5.0",
            "_view_name": "ProgressView",
            "bar_style": "success",
            "description": "",
            "description_tooltip": null,
            "layout": "IPY_MODEL_84024f053d3a46d29e61674774597a27",
            "max": 1,
            "min": 0,
            "orientation": "horizontal",
            "style": "IPY_MODEL_0aad2f150560447a9c3dcc6ae62605ae",
            "value": 1
          }
        },
        "07d47facbd244b0b9f0c103acb93b63b": {
          "model_module": "@jupyter-widgets/controls",
          "model_name": "HTMLModel",
          "model_module_version": "1.5.0",
          "state": {
            "_dom_classes": [],
            "_model_module": "@jupyter-widgets/controls",
            "_model_module_version": "1.5.0",
            "_model_name": "HTMLModel",
            "_view_count": null,
            "_view_module": "@jupyter-widgets/controls",
            "_view_module_version": "1.5.0",
            "_view_name": "HTMLView",
            "description": "",
            "description_tooltip": null,
            "layout": "IPY_MODEL_e4b7fe337c8240c7b9a0b77c650bbae2",
            "placeholder": "​",
            "style": "IPY_MODEL_3842a31d1da14729a8549998abe41cec",
            "value": " 606720/0 [04:43&lt;00:00, 3612.60 examples/s]"
          }
        },
        "c6598300a9144d1fb322a1a34d70279b": {
          "model_module": "@jupyter-widgets/base",
          "model_name": "LayoutModel",
          "model_module_version": "1.2.0",
          "state": {
            "_model_module": "@jupyter-widgets/base",
            "_model_module_version": "1.2.0",
            "_model_name": "LayoutModel",
            "_view_count": null,
            "_view_module": "@jupyter-widgets/base",
            "_view_module_version": "1.2.0",
            "_view_name": "LayoutView",
            "align_content": null,
            "align_items": null,
            "align_self": null,
            "border": null,
            "bottom": null,
            "display": null,
            "flex": null,
            "flex_flow": null,
            "grid_area": null,
            "grid_auto_columns": null,
            "grid_auto_flow": null,
            "grid_auto_rows": null,
            "grid_column": null,
            "grid_gap": null,
            "grid_row": null,
            "grid_template_areas": null,
            "grid_template_columns": null,
            "grid_template_rows": null,
            "height": null,
            "justify_content": null,
            "justify_items": null,
            "left": null,
            "margin": null,
            "max_height": null,
            "max_width": null,
            "min_height": null,
            "min_width": null,
            "object_fit": null,
            "object_position": null,
            "order": null,
            "overflow": null,
            "overflow_x": null,
            "overflow_y": null,
            "padding": null,
            "right": null,
            "top": null,
            "visibility": null,
            "width": null
          }
        },
        "f770d270c63a4caaaec872c0e24eadb5": {
          "model_module": "@jupyter-widgets/base",
          "model_name": "LayoutModel",
          "model_module_version": "1.2.0",
          "state": {
            "_model_module": "@jupyter-widgets/base",
            "_model_module_version": "1.2.0",
            "_model_name": "LayoutModel",
            "_view_count": null,
            "_view_module": "@jupyter-widgets/base",
            "_view_module_version": "1.2.0",
            "_view_name": "LayoutView",
            "align_content": null,
            "align_items": null,
            "align_self": null,
            "border": null,
            "bottom": null,
            "display": null,
            "flex": null,
            "flex_flow": null,
            "grid_area": null,
            "grid_auto_columns": null,
            "grid_auto_flow": null,
            "grid_auto_rows": null,
            "grid_column": null,
            "grid_gap": null,
            "grid_row": null,
            "grid_template_areas": null,
            "grid_template_columns": null,
            "grid_template_rows": null,
            "height": null,
            "justify_content": null,
            "justify_items": null,
            "left": null,
            "margin": null,
            "max_height": null,
            "max_width": null,
            "min_height": null,
            "min_width": null,
            "object_fit": null,
            "object_position": null,
            "order": null,
            "overflow": null,
            "overflow_x": null,
            "overflow_y": null,
            "padding": null,
            "right": null,
            "top": null,
            "visibility": null,
            "width": null
          }
        },
        "88a791ab2e3c427591cc5fa8034b920c": {
          "model_module": "@jupyter-widgets/controls",
          "model_name": "DescriptionStyleModel",
          "model_module_version": "1.5.0",
          "state": {
            "_model_module": "@jupyter-widgets/controls",
            "_model_module_version": "1.5.0",
            "_model_name": "DescriptionStyleModel",
            "_view_count": null,
            "_view_module": "@jupyter-widgets/base",
            "_view_module_version": "1.2.0",
            "_view_name": "StyleView",
            "description_width": ""
          }
        },
        "84024f053d3a46d29e61674774597a27": {
          "model_module": "@jupyter-widgets/base",
          "model_name": "LayoutModel",
          "model_module_version": "1.2.0",
          "state": {
            "_model_module": "@jupyter-widgets/base",
            "_model_module_version": "1.2.0",
            "_model_name": "LayoutModel",
            "_view_count": null,
            "_view_module": "@jupyter-widgets/base",
            "_view_module_version": "1.2.0",
            "_view_name": "LayoutView",
            "align_content": null,
            "align_items": null,
            "align_self": null,
            "border": null,
            "bottom": null,
            "display": null,
            "flex": null,
            "flex_flow": null,
            "grid_area": null,
            "grid_auto_columns": null,
            "grid_auto_flow": null,
            "grid_auto_rows": null,
            "grid_column": null,
            "grid_gap": null,
            "grid_row": null,
            "grid_template_areas": null,
            "grid_template_columns": null,
            "grid_template_rows": null,
            "height": null,
            "justify_content": null,
            "justify_items": null,
            "left": null,
            "margin": null,
            "max_height": null,
            "max_width": null,
            "min_height": null,
            "min_width": null,
            "object_fit": null,
            "object_position": null,
            "order": null,
            "overflow": null,
            "overflow_x": null,
            "overflow_y": null,
            "padding": null,
            "right": null,
            "top": null,
            "visibility": null,
            "width": "20px"
          }
        },
        "0aad2f150560447a9c3dcc6ae62605ae": {
          "model_module": "@jupyter-widgets/controls",
          "model_name": "ProgressStyleModel",
          "model_module_version": "1.5.0",
          "state": {
            "_model_module": "@jupyter-widgets/controls",
            "_model_module_version": "1.5.0",
            "_model_name": "ProgressStyleModel",
            "_view_count": null,
            "_view_module": "@jupyter-widgets/base",
            "_view_module_version": "1.2.0",
            "_view_name": "StyleView",
            "bar_color": null,
            "description_width": ""
          }
        },
        "e4b7fe337c8240c7b9a0b77c650bbae2": {
          "model_module": "@jupyter-widgets/base",
          "model_name": "LayoutModel",
          "model_module_version": "1.2.0",
          "state": {
            "_model_module": "@jupyter-widgets/base",
            "_model_module_version": "1.2.0",
            "_model_name": "LayoutModel",
            "_view_count": null,
            "_view_module": "@jupyter-widgets/base",
            "_view_module_version": "1.2.0",
            "_view_name": "LayoutView",
            "align_content": null,
            "align_items": null,
            "align_self": null,
            "border": null,
            "bottom": null,
            "display": null,
            "flex": null,
            "flex_flow": null,
            "grid_area": null,
            "grid_auto_columns": null,
            "grid_auto_flow": null,
            "grid_auto_rows": null,
            "grid_column": null,
            "grid_gap": null,
            "grid_row": null,
            "grid_template_areas": null,
            "grid_template_columns": null,
            "grid_template_rows": null,
            "height": null,
            "justify_content": null,
            "justify_items": null,
            "left": null,
            "margin": null,
            "max_height": null,
            "max_width": null,
            "min_height": null,
            "min_width": null,
            "object_fit": null,
            "object_position": null,
            "order": null,
            "overflow": null,
            "overflow_x": null,
            "overflow_y": null,
            "padding": null,
            "right": null,
            "top": null,
            "visibility": null,
            "width": null
          }
        },
        "3842a31d1da14729a8549998abe41cec": {
          "model_module": "@jupyter-widgets/controls",
          "model_name": "DescriptionStyleModel",
          "model_module_version": "1.5.0",
          "state": {
            "_model_module": "@jupyter-widgets/controls",
            "_model_module_version": "1.5.0",
            "_model_name": "DescriptionStyleModel",
            "_view_count": null,
            "_view_module": "@jupyter-widgets/base",
            "_view_module_version": "1.2.0",
            "_view_name": "StyleView",
            "description_width": ""
          }
        },
        "ce2582965e834a959700fb84d9aa888f": {
          "model_module": "@jupyter-widgets/controls",
          "model_name": "HBoxModel",
          "model_module_version": "1.5.0",
          "state": {
            "_dom_classes": [],
            "_model_module": "@jupyter-widgets/controls",
            "_model_module_version": "1.5.0",
            "_model_name": "HBoxModel",
            "_view_count": null,
            "_view_module": "@jupyter-widgets/controls",
            "_view_module_version": "1.5.0",
            "_view_name": "HBoxView",
            "box_style": "",
            "children": [
              "IPY_MODEL_c06ce3f5843446d286627a54aff1ecdd",
              "IPY_MODEL_80003ca1bec547c58f80f1e0930f3f53",
              "IPY_MODEL_2e9ab99273ea4d71a0d786772a262f83"
            ],
            "layout": "IPY_MODEL_8cea742376d2408eacd585b9fa0e01a4"
          }
        },
        "c06ce3f5843446d286627a54aff1ecdd": {
          "model_module": "@jupyter-widgets/controls",
          "model_name": "HTMLModel",
          "model_module_version": "1.5.0",
          "state": {
            "_dom_classes": [],
            "_model_module": "@jupyter-widgets/controls",
            "_model_module_version": "1.5.0",
            "_model_name": "HTMLModel",
            "_view_count": null,
            "_view_module": "@jupyter-widgets/controls",
            "_view_module_version": "1.5.0",
            "_view_name": "HTMLView",
            "description": "",
            "description_tooltip": null,
            "layout": "IPY_MODEL_a8efdf4b05914cfabb1207a1d60a0328",
            "placeholder": "​",
            "style": "IPY_MODEL_03b06f20d16c4529b8652dd3ae4f8726",
            "value": "Downloading data: 100%"
          }
        },
        "80003ca1bec547c58f80f1e0930f3f53": {
          "model_module": "@jupyter-widgets/controls",
          "model_name": "FloatProgressModel",
          "model_module_version": "1.5.0",
          "state": {
            "_dom_classes": [],
            "_model_module": "@jupyter-widgets/controls",
            "_model_module_version": "1.5.0",
            "_model_name": "FloatProgressModel",
            "_view_count": null,
            "_view_module": "@jupyter-widgets/controls",
            "_view_module_version": "1.5.0",
            "_view_name": "ProgressView",
            "bar_style": "success",
            "description": "",
            "description_tooltip": null,
            "layout": "IPY_MODEL_5965e26e2b734cbb9a1301a9aff53ca9",
            "max": 46094887,
            "min": 0,
            "orientation": "horizontal",
            "style": "IPY_MODEL_cf691998f8ae495e9aee48a379e8e746",
            "value": 46094887
          }
        },
        "2e9ab99273ea4d71a0d786772a262f83": {
          "model_module": "@jupyter-widgets/controls",
          "model_name": "HTMLModel",
          "model_module_version": "1.5.0",
          "state": {
            "_dom_classes": [],
            "_model_module": "@jupyter-widgets/controls",
            "_model_module_version": "1.5.0",
            "_model_name": "HTMLModel",
            "_view_count": null,
            "_view_module": "@jupyter-widgets/controls",
            "_view_module_version": "1.5.0",
            "_view_name": "HTMLView",
            "description": "",
            "description_tooltip": null,
            "layout": "IPY_MODEL_20d435ea8f0c4dbeac2048b63a2c2027",
            "placeholder": "​",
            "style": "IPY_MODEL_1631a4cc507e45a0aff5304480c0fd63",
            "value": " 46.1M/46.1M [00:01&lt;00:00, 35.6MB/s]"
          }
        },
        "8cea742376d2408eacd585b9fa0e01a4": {
          "model_module": "@jupyter-widgets/base",
          "model_name": "LayoutModel",
          "model_module_version": "1.2.0",
          "state": {
            "_model_module": "@jupyter-widgets/base",
            "_model_module_version": "1.2.0",
            "_model_name": "LayoutModel",
            "_view_count": null,
            "_view_module": "@jupyter-widgets/base",
            "_view_module_version": "1.2.0",
            "_view_name": "LayoutView",
            "align_content": null,
            "align_items": null,
            "align_self": null,
            "border": null,
            "bottom": null,
            "display": null,
            "flex": null,
            "flex_flow": null,
            "grid_area": null,
            "grid_auto_columns": null,
            "grid_auto_flow": null,
            "grid_auto_rows": null,
            "grid_column": null,
            "grid_gap": null,
            "grid_row": null,
            "grid_template_areas": null,
            "grid_template_columns": null,
            "grid_template_rows": null,
            "height": null,
            "justify_content": null,
            "justify_items": null,
            "left": null,
            "margin": null,
            "max_height": null,
            "max_width": null,
            "min_height": null,
            "min_width": null,
            "object_fit": null,
            "object_position": null,
            "order": null,
            "overflow": null,
            "overflow_x": null,
            "overflow_y": null,
            "padding": null,
            "right": null,
            "top": null,
            "visibility": null,
            "width": null
          }
        },
        "a8efdf4b05914cfabb1207a1d60a0328": {
          "model_module": "@jupyter-widgets/base",
          "model_name": "LayoutModel",
          "model_module_version": "1.2.0",
          "state": {
            "_model_module": "@jupyter-widgets/base",
            "_model_module_version": "1.2.0",
            "_model_name": "LayoutModel",
            "_view_count": null,
            "_view_module": "@jupyter-widgets/base",
            "_view_module_version": "1.2.0",
            "_view_name": "LayoutView",
            "align_content": null,
            "align_items": null,
            "align_self": null,
            "border": null,
            "bottom": null,
            "display": null,
            "flex": null,
            "flex_flow": null,
            "grid_area": null,
            "grid_auto_columns": null,
            "grid_auto_flow": null,
            "grid_auto_rows": null,
            "grid_column": null,
            "grid_gap": null,
            "grid_row": null,
            "grid_template_areas": null,
            "grid_template_columns": null,
            "grid_template_rows": null,
            "height": null,
            "justify_content": null,
            "justify_items": null,
            "left": null,
            "margin": null,
            "max_height": null,
            "max_width": null,
            "min_height": null,
            "min_width": null,
            "object_fit": null,
            "object_position": null,
            "order": null,
            "overflow": null,
            "overflow_x": null,
            "overflow_y": null,
            "padding": null,
            "right": null,
            "top": null,
            "visibility": null,
            "width": null
          }
        },
        "03b06f20d16c4529b8652dd3ae4f8726": {
          "model_module": "@jupyter-widgets/controls",
          "model_name": "DescriptionStyleModel",
          "model_module_version": "1.5.0",
          "state": {
            "_model_module": "@jupyter-widgets/controls",
            "_model_module_version": "1.5.0",
            "_model_name": "DescriptionStyleModel",
            "_view_count": null,
            "_view_module": "@jupyter-widgets/base",
            "_view_module_version": "1.2.0",
            "_view_name": "StyleView",
            "description_width": ""
          }
        },
        "5965e26e2b734cbb9a1301a9aff53ca9": {
          "model_module": "@jupyter-widgets/base",
          "model_name": "LayoutModel",
          "model_module_version": "1.2.0",
          "state": {
            "_model_module": "@jupyter-widgets/base",
            "_model_module_version": "1.2.0",
            "_model_name": "LayoutModel",
            "_view_count": null,
            "_view_module": "@jupyter-widgets/base",
            "_view_module_version": "1.2.0",
            "_view_name": "LayoutView",
            "align_content": null,
            "align_items": null,
            "align_self": null,
            "border": null,
            "bottom": null,
            "display": null,
            "flex": null,
            "flex_flow": null,
            "grid_area": null,
            "grid_auto_columns": null,
            "grid_auto_flow": null,
            "grid_auto_rows": null,
            "grid_column": null,
            "grid_gap": null,
            "grid_row": null,
            "grid_template_areas": null,
            "grid_template_columns": null,
            "grid_template_rows": null,
            "height": null,
            "justify_content": null,
            "justify_items": null,
            "left": null,
            "margin": null,
            "max_height": null,
            "max_width": null,
            "min_height": null,
            "min_width": null,
            "object_fit": null,
            "object_position": null,
            "order": null,
            "overflow": null,
            "overflow_x": null,
            "overflow_y": null,
            "padding": null,
            "right": null,
            "top": null,
            "visibility": null,
            "width": null
          }
        },
        "cf691998f8ae495e9aee48a379e8e746": {
          "model_module": "@jupyter-widgets/controls",
          "model_name": "ProgressStyleModel",
          "model_module_version": "1.5.0",
          "state": {
            "_model_module": "@jupyter-widgets/controls",
            "_model_module_version": "1.5.0",
            "_model_name": "ProgressStyleModel",
            "_view_count": null,
            "_view_module": "@jupyter-widgets/base",
            "_view_module_version": "1.2.0",
            "_view_name": "StyleView",
            "bar_color": null,
            "description_width": ""
          }
        },
        "20d435ea8f0c4dbeac2048b63a2c2027": {
          "model_module": "@jupyter-widgets/base",
          "model_name": "LayoutModel",
          "model_module_version": "1.2.0",
          "state": {
            "_model_module": "@jupyter-widgets/base",
            "_model_module_version": "1.2.0",
            "_model_name": "LayoutModel",
            "_view_count": null,
            "_view_module": "@jupyter-widgets/base",
            "_view_module_version": "1.2.0",
            "_view_name": "LayoutView",
            "align_content": null,
            "align_items": null,
            "align_self": null,
            "border": null,
            "bottom": null,
            "display": null,
            "flex": null,
            "flex_flow": null,
            "grid_area": null,
            "grid_auto_columns": null,
            "grid_auto_flow": null,
            "grid_auto_rows": null,
            "grid_column": null,
            "grid_gap": null,
            "grid_row": null,
            "grid_template_areas": null,
            "grid_template_columns": null,
            "grid_template_rows": null,
            "height": null,
            "justify_content": null,
            "justify_items": null,
            "left": null,
            "margin": null,
            "max_height": null,
            "max_width": null,
            "min_height": null,
            "min_width": null,
            "object_fit": null,
            "object_position": null,
            "order": null,
            "overflow": null,
            "overflow_x": null,
            "overflow_y": null,
            "padding": null,
            "right": null,
            "top": null,
            "visibility": null,
            "width": null
          }
        },
        "1631a4cc507e45a0aff5304480c0fd63": {
          "model_module": "@jupyter-widgets/controls",
          "model_name": "DescriptionStyleModel",
          "model_module_version": "1.5.0",
          "state": {
            "_model_module": "@jupyter-widgets/controls",
            "_model_module_version": "1.5.0",
            "_model_name": "DescriptionStyleModel",
            "_view_count": null,
            "_view_module": "@jupyter-widgets/base",
            "_view_module_version": "1.2.0",
            "_view_name": "StyleView",
            "description_width": ""
          }
        },
        "bf02b0225aaf4ea1bfbb6f1c6849841d": {
          "model_module": "@jupyter-widgets/controls",
          "model_name": "HBoxModel",
          "model_module_version": "1.5.0",
          "state": {
            "_dom_classes": [],
            "_model_module": "@jupyter-widgets/controls",
            "_model_module_version": "1.5.0",
            "_model_name": "HBoxModel",
            "_view_count": null,
            "_view_module": "@jupyter-widgets/controls",
            "_view_module_version": "1.5.0",
            "_view_name": "HBoxView",
            "box_style": "",
            "children": [
              "IPY_MODEL_4144de0e2c7c49f297dfa0da2063ee70",
              "IPY_MODEL_762c1de80f3b4fb0a10d42f702cf826d",
              "IPY_MODEL_505afdd8c04b48a3aad2a097c87d0c7b"
            ],
            "layout": "IPY_MODEL_9a3ebdf5b95c416daf87c2869a42e35f"
          }
        },
        "4144de0e2c7c49f297dfa0da2063ee70": {
          "model_module": "@jupyter-widgets/controls",
          "model_name": "HTMLModel",
          "model_module_version": "1.5.0",
          "state": {
            "_dom_classes": [],
            "_model_module": "@jupyter-widgets/controls",
            "_model_module_version": "1.5.0",
            "_model_name": "HTMLModel",
            "_view_count": null,
            "_view_module": "@jupyter-widgets/controls",
            "_view_module_version": "1.5.0",
            "_view_name": "HTMLView",
            "description": "",
            "description_tooltip": null,
            "layout": "IPY_MODEL_e5a57702cd9c41138b924eee3c7b91f7",
            "placeholder": "​",
            "style": "IPY_MODEL_5eb372afba5741009b692971e67a1076",
            "value": "Generating validation split: "
          }
        },
        "762c1de80f3b4fb0a10d42f702cf826d": {
          "model_module": "@jupyter-widgets/controls",
          "model_name": "FloatProgressModel",
          "model_module_version": "1.5.0",
          "state": {
            "_dom_classes": [],
            "_model_module": "@jupyter-widgets/controls",
            "_model_module_version": "1.5.0",
            "_model_name": "FloatProgressModel",
            "_view_count": null,
            "_view_module": "@jupyter-widgets/controls",
            "_view_module_version": "1.5.0",
            "_view_name": "ProgressView",
            "bar_style": "success",
            "description": "",
            "description_tooltip": null,
            "layout": "IPY_MODEL_80ac4ddbdedd4f03b066e1bd458124f9",
            "max": 1,
            "min": 0,
            "orientation": "horizontal",
            "style": "IPY_MODEL_7b8f68b3315d4aee8111c95739027f9b",
            "value": 1
          }
        },
        "505afdd8c04b48a3aad2a097c87d0c7b": {
          "model_module": "@jupyter-widgets/controls",
          "model_name": "HTMLModel",
          "model_module_version": "1.5.0",
          "state": {
            "_dom_classes": [],
            "_model_module": "@jupyter-widgets/controls",
            "_model_module_version": "1.5.0",
            "_model_name": "HTMLModel",
            "_view_count": null,
            "_view_module": "@jupyter-widgets/controls",
            "_view_module_version": "1.5.0",
            "_view_name": "HTMLView",
            "description": "",
            "description_tooltip": null,
            "layout": "IPY_MODEL_1b55bf8e5f8f4d0ca5e2ea37db91ea41",
            "placeholder": "​",
            "style": "IPY_MODEL_426c0579014b4a99abc64e3ac8b40ab7",
            "value": " 3322/0 [00:00&lt;00:00, 6395.20 examples/s]"
          }
        },
        "9a3ebdf5b95c416daf87c2869a42e35f": {
          "model_module": "@jupyter-widgets/base",
          "model_name": "LayoutModel",
          "model_module_version": "1.2.0",
          "state": {
            "_model_module": "@jupyter-widgets/base",
            "_model_module_version": "1.2.0",
            "_model_name": "LayoutModel",
            "_view_count": null,
            "_view_module": "@jupyter-widgets/base",
            "_view_module_version": "1.2.0",
            "_view_name": "LayoutView",
            "align_content": null,
            "align_items": null,
            "align_self": null,
            "border": null,
            "bottom": null,
            "display": null,
            "flex": null,
            "flex_flow": null,
            "grid_area": null,
            "grid_auto_columns": null,
            "grid_auto_flow": null,
            "grid_auto_rows": null,
            "grid_column": null,
            "grid_gap": null,
            "grid_row": null,
            "grid_template_areas": null,
            "grid_template_columns": null,
            "grid_template_rows": null,
            "height": null,
            "justify_content": null,
            "justify_items": null,
            "left": null,
            "margin": null,
            "max_height": null,
            "max_width": null,
            "min_height": null,
            "min_width": null,
            "object_fit": null,
            "object_position": null,
            "order": null,
            "overflow": null,
            "overflow_x": null,
            "overflow_y": null,
            "padding": null,
            "right": null,
            "top": null,
            "visibility": null,
            "width": null
          }
        },
        "e5a57702cd9c41138b924eee3c7b91f7": {
          "model_module": "@jupyter-widgets/base",
          "model_name": "LayoutModel",
          "model_module_version": "1.2.0",
          "state": {
            "_model_module": "@jupyter-widgets/base",
            "_model_module_version": "1.2.0",
            "_model_name": "LayoutModel",
            "_view_count": null,
            "_view_module": "@jupyter-widgets/base",
            "_view_module_version": "1.2.0",
            "_view_name": "LayoutView",
            "align_content": null,
            "align_items": null,
            "align_self": null,
            "border": null,
            "bottom": null,
            "display": null,
            "flex": null,
            "flex_flow": null,
            "grid_area": null,
            "grid_auto_columns": null,
            "grid_auto_flow": null,
            "grid_auto_rows": null,
            "grid_column": null,
            "grid_gap": null,
            "grid_row": null,
            "grid_template_areas": null,
            "grid_template_columns": null,
            "grid_template_rows": null,
            "height": null,
            "justify_content": null,
            "justify_items": null,
            "left": null,
            "margin": null,
            "max_height": null,
            "max_width": null,
            "min_height": null,
            "min_width": null,
            "object_fit": null,
            "object_position": null,
            "order": null,
            "overflow": null,
            "overflow_x": null,
            "overflow_y": null,
            "padding": null,
            "right": null,
            "top": null,
            "visibility": null,
            "width": null
          }
        },
        "5eb372afba5741009b692971e67a1076": {
          "model_module": "@jupyter-widgets/controls",
          "model_name": "DescriptionStyleModel",
          "model_module_version": "1.5.0",
          "state": {
            "_model_module": "@jupyter-widgets/controls",
            "_model_module_version": "1.5.0",
            "_model_name": "DescriptionStyleModel",
            "_view_count": null,
            "_view_module": "@jupyter-widgets/base",
            "_view_module_version": "1.2.0",
            "_view_name": "StyleView",
            "description_width": ""
          }
        },
        "80ac4ddbdedd4f03b066e1bd458124f9": {
          "model_module": "@jupyter-widgets/base",
          "model_name": "LayoutModel",
          "model_module_version": "1.2.0",
          "state": {
            "_model_module": "@jupyter-widgets/base",
            "_model_module_version": "1.2.0",
            "_model_name": "LayoutModel",
            "_view_count": null,
            "_view_module": "@jupyter-widgets/base",
            "_view_module_version": "1.2.0",
            "_view_name": "LayoutView",
            "align_content": null,
            "align_items": null,
            "align_self": null,
            "border": null,
            "bottom": null,
            "display": null,
            "flex": null,
            "flex_flow": null,
            "grid_area": null,
            "grid_auto_columns": null,
            "grid_auto_flow": null,
            "grid_auto_rows": null,
            "grid_column": null,
            "grid_gap": null,
            "grid_row": null,
            "grid_template_areas": null,
            "grid_template_columns": null,
            "grid_template_rows": null,
            "height": null,
            "justify_content": null,
            "justify_items": null,
            "left": null,
            "margin": null,
            "max_height": null,
            "max_width": null,
            "min_height": null,
            "min_width": null,
            "object_fit": null,
            "object_position": null,
            "order": null,
            "overflow": null,
            "overflow_x": null,
            "overflow_y": null,
            "padding": null,
            "right": null,
            "top": null,
            "visibility": null,
            "width": "20px"
          }
        },
        "7b8f68b3315d4aee8111c95739027f9b": {
          "model_module": "@jupyter-widgets/controls",
          "model_name": "ProgressStyleModel",
          "model_module_version": "1.5.0",
          "state": {
            "_model_module": "@jupyter-widgets/controls",
            "_model_module_version": "1.5.0",
            "_model_name": "ProgressStyleModel",
            "_view_count": null,
            "_view_module": "@jupyter-widgets/base",
            "_view_module_version": "1.2.0",
            "_view_name": "StyleView",
            "bar_color": null,
            "description_width": ""
          }
        },
        "1b55bf8e5f8f4d0ca5e2ea37db91ea41": {
          "model_module": "@jupyter-widgets/base",
          "model_name": "LayoutModel",
          "model_module_version": "1.2.0",
          "state": {
            "_model_module": "@jupyter-widgets/base",
            "_model_module_version": "1.2.0",
            "_model_name": "LayoutModel",
            "_view_count": null,
            "_view_module": "@jupyter-widgets/base",
            "_view_module_version": "1.2.0",
            "_view_name": "LayoutView",
            "align_content": null,
            "align_items": null,
            "align_self": null,
            "border": null,
            "bottom": null,
            "display": null,
            "flex": null,
            "flex_flow": null,
            "grid_area": null,
            "grid_auto_columns": null,
            "grid_auto_flow": null,
            "grid_auto_rows": null,
            "grid_column": null,
            "grid_gap": null,
            "grid_row": null,
            "grid_template_areas": null,
            "grid_template_columns": null,
            "grid_template_rows": null,
            "height": null,
            "justify_content": null,
            "justify_items": null,
            "left": null,
            "margin": null,
            "max_height": null,
            "max_width": null,
            "min_height": null,
            "min_width": null,
            "object_fit": null,
            "object_position": null,
            "order": null,
            "overflow": null,
            "overflow_x": null,
            "overflow_y": null,
            "padding": null,
            "right": null,
            "top": null,
            "visibility": null,
            "width": null
          }
        },
        "426c0579014b4a99abc64e3ac8b40ab7": {
          "model_module": "@jupyter-widgets/controls",
          "model_name": "DescriptionStyleModel",
          "model_module_version": "1.5.0",
          "state": {
            "_model_module": "@jupyter-widgets/controls",
            "_model_module_version": "1.5.0",
            "_model_name": "DescriptionStyleModel",
            "_view_count": null,
            "_view_module": "@jupyter-widgets/base",
            "_view_module_version": "1.2.0",
            "_view_name": "StyleView",
            "description_width": ""
          }
        }
      }
    }
  },
  "cells": [
    {
      "cell_type": "code",
      "source": [
        "'''\n",
        "Per token Workflow\n",
        "  Input_ids\n",
        "  -> Hidden Dim\n",
        "  -> q, k, v projs\n",
        "  -> rotary pe\n",
        "  -> self.n_repeats\n",
        "  -> gqa attention\n",
        "  -> out_proj\n",
        "  ->ffn\n",
        "  ->softmax\n",
        "'''\n"
      ],
      "metadata": {
        "id": "h0ZhtPT57kkz",
        "colab": {
          "base_uri": "https://localhost:8080/",
          "height": 70
        },
        "outputId": "053438c1-2533-482b-c0f1-0a40a739f1bc"
      },
      "execution_count": null,
      "outputs": [
        {
          "output_type": "execute_result",
          "data": {
            "text/plain": [
              "'\\nPer token Workflow\\n  Input_ids\\n  -> Hidden Dim\\n  -> q, k, v projs\\n  -> rotary pe\\n  -> self.n_repeats\\n  -> gqa attention\\n  -> out_proj\\n  ->ffn\\n  ->softmax\\n'"
            ],
            "application/vnd.google.colaboratory.intrinsic+json": {
              "type": "string"
            }
          },
          "metadata": {},
          "execution_count": 2
        }
      ]
    },
    {
      "cell_type": "code",
      "source": [
        "!pip install -U -q accelerate transformers[torch] datasets huggingface_hub"
      ],
      "metadata": {
        "id": "h6e2Qv97hsb7"
      },
      "execution_count": null,
      "outputs": []
    },
    {
      "cell_type": "code",
      "source": [
        "import gc\n",
        "import sys\n",
        "import torch\n",
        "from torch import nn\n",
        "import torch.nn.functional as F\n",
        "from torch.nn import BCEWithLogitsLoss, CrossEntropyLoss, MSELoss\n",
        "from math import sqrt\n",
        "from transformers import PretrainedConfig\n",
        "import math\n",
        "from typing import Tuple, Optional, List\n",
        "from transformers import logging, PreTrainedModel\n",
        "from transformers.modeling_outputs import CausalLMOutputWithPast  #used to compute output when passed previously computed key and value pairs for faster seqential decoding\n",
        "#subclass of ModelOutput"
      ],
      "metadata": {
        "id": "TeCB2c8PiN82"
      },
      "execution_count": null,
      "outputs": []
    },
    {
      "cell_type": "code",
      "source": [
        "def flush():\n",
        "    gc.collect()\n",
        "    torch.cuda.empty_cache()\n",
        "\n",
        "def count_parameters(model):\n",
        "    return f\" Model size: {sum(p.numel() for p in model.parameters() if p.requires_grad) / 10 ** 6:.2f}M parameters\"\n"
      ],
      "metadata": {
        "id": "42tyq7Dqh-Tt"
      },
      "execution_count": null,
      "outputs": []
    },
    {
      "cell_type": "code",
      "source": [
        "class BRXConfig(PretrainedConfig):\n",
        "\n",
        "    keys_to_ignore_at_inference = [\"past_key_values\"]\n",
        "\n",
        "    def __init__(\n",
        "      self,\n",
        "      vocab_size=32000,\n",
        "      hidden_size=1024, # 2048 Tiny LLaMA\n",
        "      intermediate_size=2048,\n",
        "      num_hidden_layers=6,\n",
        "      num_attention_heads=16, # 32 Tiny LLaMA\n",
        "      num_key_value_heads=2,\n",
        "      hidden_act=\"silu\",\n",
        "      max_position_embeddings=2048, #max context length\n",
        "      initializer_range=0.02,  #std used to initialize the weight\n",
        "      rms_norm_eps=1e-6,\n",
        "      use_cache=False,\n",
        "      pad_token_id=None,\n",
        "      bos_token_id=1,\n",
        "      eos_token_id=2,\n",
        "      pretraining_tp=1, # refers to training a model with a single positive example per batch during pretraining\n",
        "      tie_word_embeddings=False, #refers to using the same weight matrix for the input embeddings and output softmax layer\n",
        "      rope_theta=10000.0,\n",
        "      rope_scaling=None,\n",
        "      attention_bias=False,\n",
        "      attention_dropout=0.0,\n",
        "      use_bias=False,\n",
        "      lm_head_bias=False,\n",
        "      residual_dropout=0.0,\n",
        "      device='cpu',\n",
        "      **kwargs,\n",
        "    ):\n",
        "\n",
        "      self.vocab_size = vocab_size\n",
        "      self.max_position_embeddings = max_position_embeddings\n",
        "      self.hidden_size = hidden_size\n",
        "      self.intermediate_size = intermediate_size\n",
        "      self.num_hidden_layers = num_hidden_layers\n",
        "      self.num_attention_heads = num_attention_heads\n",
        "\n",
        "      self.num_key_value_heads = num_key_value_heads\n",
        "      self.hidden_act = hidden_act\n",
        "      self.initializer_range = initializer_range\n",
        "      self.rms_norm_eps = rms_norm_eps\n",
        "      self.pretraining_tp = pretraining_tp\n",
        "      self.use_cache = use_cache\n",
        "      self.rope_theta = rope_theta\n",
        "      self.rope_scaling = rope_scaling\n",
        "      self.attention_bias = attention_bias\n",
        "      self.attention_dropout = attention_dropout\n",
        "      self.residual_dropout = residual_dropout\n",
        "      self.use_bias = use_bias\n",
        "      self.lm_head_bias = lm_head_bias\n",
        "      self.device = device\n",
        "\n",
        "      super().__init__(\n",
        "        bos_token_id=bos_token_id,\n",
        "        eos_token_id=eos_token_id,\n",
        "        **kwargs,\n",
        "      )"
      ],
      "metadata": {
        "id": "A2ats5Q9ivtm"
      },
      "execution_count": null,
      "outputs": []
    },
    {
      "cell_type": "code",
      "source": [
        "def build_mask_cache(max_seq_length: int, device: Optional[torch.device] = None) -> torch.Tensor:\n",
        "  ones = torch.ones((max_seq_length, max_seq_length), device=device, dtype=torch.bool)\n",
        "  return torch.tril(ones).unsqueeze(0).unsqueeze(0) #[1, 1, seq_len, seq_len]\n",
        "\n",
        "def repeat_kv(hidden_states:torch.Tensor, n_repeats:int):\n",
        "  batch, n_kv_heads, seq_len, head_dim = hidden_states.shape\n",
        "  if n_repeats == 1:\n",
        "      return hidden_states\n",
        "  hidden_states = hidden_states.unsqueeze(2).expand(batch, n_kv_heads, n_repeats, seq_len, head_dim) # (B, nh, T, hs) -> (B, nh, 1, T, hs) -> # (B, nh, n_repeats, T, hs)\n",
        "  return hidden_states.reshape(batch, n_kv_heads * n_repeats, seq_len, head_dim) # # (B, nh * n_repeats, T, hs)\n",
        "\n",
        "class RotaryPositionalEmbeddings(nn.Module):\n",
        "  def __init__(self, dim, max_position_embeddings=2048, base=10000.0, device=None, scaling_factor=1.0):\n",
        "    super().__init__()\n",
        "    self.dim = dim\n",
        "    self.max_position_embeddings = max_position_embeddings\n",
        "    self.device=device\n",
        "    self.scaling_factor = scaling_factor\n",
        "    self.base = base\n",
        "\n",
        "    #all theta_i's\n",
        "    inv_freq = 1.0 / (self.base ** (torch.arange(0, self.dim, 2, dtype=torch.int64).float().to(device) / self.dim))  #[dim/2]\n",
        "    self.register_buffer(\"inv_freq\", inv_freq, persistent=False)\n",
        "\n",
        "\n",
        "  def _set_sin_cos_cache(self, seq_len, device, dtype):\n",
        "    self.max_seq_len_cached = seq_len\n",
        "    m = torch.arange(self.max_seq_len_cached, device=device, dtype=torch.int64).type_as(self.inv_freq) #[seq_len]\n",
        "    m = m/self.scaling_factor\n",
        "\n",
        "    freqs = torch.outer(m, self.inv_freq)  #[seq_len, dim/2]\n",
        "\n",
        "    emb = torch.cat((freqs, freqs), dim=-1) #[seq_len, dim/2 + dim/2]\n",
        "\n",
        "    self.register_buffer(\"cos_cached\", emb.cos().to(dtype), persistent=False) # [seq_len, dim]\n",
        "    self.register_buffer(\"sin_cached\", emb.sin().to(dtype), persistent=False) # [seq_len, dim]\n",
        "\n",
        "  @torch.no_grad()\n",
        "  def forward(self, x, seq_len=None):\n",
        "      # x: [bs, num_attention_heads, seq_len, head_dim]\n",
        "    self._set_sin_cos_cache(seq_len=seq_len, device=x.device, dtype=x.dtype)\n",
        "\n",
        "    return (\n",
        "      self.cos_cached[:seq_len].to(dtype=x.dtype),  # till given seq_len, and all dim\n",
        "      self.sin_cached[:seq_len].to(dtype=x.dtype)\n",
        "    )\n",
        "\n",
        "  def apply_rope(self, x: torch.Tensor, cos: torch.Tensor, sin: torch.Tensor, position_ids, unsqueeze_dim=1) -> torch.Tensor:\n",
        "    #x [batch_size, n_heads, seq_len, embed_size]\n",
        "    cos = cos[position_ids].unsqueeze(unsqueeze_dim)\n",
        "    # print(f\"cos {cos.shape}\")\n",
        "    sin = sin[position_ids].unsqueeze(unsqueeze_dim)\n",
        "    x1 = x[..., : x.shape[-1] // 2] # (B, nh, T, hs/2) first halt of the last dimension\n",
        "    x2 = x[..., x.shape[-1] // 2 :] # (B, nh, T, hs/2) second half\n",
        "    rotated = torch.cat((-x2, x1), dim=-1) # (B, nh, T, hs)\n",
        "    roped = (x * cos) + (rotated * sin)\n",
        "    return roped.to(dtype=x.dtype)\n",
        "\n"
      ],
      "metadata": {
        "id": "BaQp2K0ZnTyt"
      },
      "execution_count": null,
      "outputs": []
    },
    {
      "cell_type": "code",
      "source": [
        "# attention class\n",
        "class BRXAttention(nn.Module):\n",
        "  def __init__(self, config:BRXConfig):\n",
        "    super().__init__()\n",
        "    self.config = config\n",
        "    self.hidden_dim = hidden_dim = config.hidden_size\n",
        "    self.n_heads = n_heads = config.num_attention_heads\n",
        "    self.n_kv_heads = n_kv_heads = config.num_key_value_heads\n",
        "    self.head_dim = head_dim = config.hidden_size // n_heads\n",
        "    self.use_bias = config.use_bias\n",
        "\n",
        "    if (head_dim * n_heads) != self.hidden_dim:\n",
        "      raise ValueError(\n",
        "        f\"hidden_dim must be divisible by num_heads (got `hidden_dim`: {self.hidden_dim}\"\n",
        "        f\" and `num_heads`: {self.n_heads}).\"\n",
        "      )\n",
        "\n",
        "    self.repeats = self.n_heads // self.n_kv_heads # q_per_kv\n",
        "\n",
        "    self.q_proj = nn.Linear(hidden_dim, n_heads * head_dim, bias=self.use_bias) # equals to  dim\n",
        "    self.k_proj = nn.Linear(hidden_dim, n_kv_heads * head_dim, bias=self.use_bias)  # less than dim\n",
        "    self.v_proj = nn.Linear(hidden_dim, n_kv_heads * head_dim, bias=self.use_bias)\n",
        "    self.o_proj = nn.Linear(n_heads * head_dim, hidden_dim, bias=self.use_bias)\n",
        "\n",
        "    self.rotary_emb = RotaryPositionalEmbeddings(\n",
        "        head_dim,\n",
        "        max_position_embeddings=config.max_position_embeddings,\n",
        "        device=config.device,\n",
        "        base = self.config.rope_theta,\n",
        "    )\n",
        "\n",
        "    # self.kv_cache: Optional[KVCache] = None\n",
        "\n",
        "  def forward(\n",
        "      self,\n",
        "      hidden_states :torch.Tensor,\n",
        "      position_ids: Optional[torch.LongTensor] = None,\n",
        "      mask: Optional[torch.BoolTensor] = None,\n",
        "      ):\n",
        "\n",
        "    B, T, _ = hidden_states.size() # bsz, seq_len, embed_dim\n",
        "    queries = self.q_proj(hidden_states)\n",
        "    keys = self.k_proj(hidden_states)\n",
        "    values = self.v_proj(hidden_states)\n",
        "\n",
        "    queries = queries.view(B, T, self.n_heads, self.head_dim).transpose(1, 2)  # bsz, n_heads, seq_len, head_dim\n",
        "    keys = keys.view(B, T, self.n_kv_heads, self.head_dim).transpose(1, 2)  # bsz, n_kv_heads, seq_len, head_dim\n",
        "    values = values.view(B, T, self.n_kv_heads, self.head_dim).transpose(1, 2)  # bsz, n_kv_heads, seq_len, head_dim\n",
        "\n",
        "    kv_seq_len = keys.shape[-2]\n",
        "\n",
        "    cos, sin = self.rotary_emb(values, seq_len=kv_seq_len)\n",
        "\n",
        "    queries = self.rotary_emb.apply_rope(queries, cos, sin, position_ids) # bsz, n_heads, seq_len, head_dim\n",
        "    keys = self.rotary_emb.apply_rope(keys, cos, sin, position_ids) # bsz, n_kv_heads, seq_len, head_dim\n",
        "\n",
        "    # print(keys.shape)\n",
        "    # sys.exit()\n",
        "    keys = repeat_kv(keys, self.repeats) # (B, nh * n_repeats, T, hs)\n",
        "    values = repeat_kv(values, self.repeats)\n",
        "\n",
        "    # make the parameters store adjacently in order to avoid buggs and improved performance\n",
        "    if queries.device.type == \"cuda\" and mask is not None:\n",
        "      queries = queries.contiguous()\n",
        "      keys = keys.contiguous()\n",
        "      values = values.contiguous()\n",
        "\n",
        "    y = F.scaled_dot_product_attention(query=queries, key=keys, value=values) # (B, T, n_heads, head_dim)\n",
        "\n",
        "    y = y.reshape(B, T, self.hidden_dim) # (B, T, hidden_dim)\n",
        "\n",
        "    return self.o_proj(y) # (B, T, hidden_dim)"
      ],
      "metadata": {
        "id": "MLKxeXOMwutq"
      },
      "execution_count": null,
      "outputs": []
    },
    {
      "cell_type": "code",
      "source": [
        "config = BRXConfig()\n",
        "d_model=config.hidden_size\n",
        "sequence_length = config.max_position_embeddings # max number of tokens ##2048\n",
        "batch_size = 5\n",
        "input_data = torch.rand((batch_size, sequence_length, d_model), device=config.device)\n",
        "position_ids = torch.arange(sequence_length, dtype=torch.long, device=config.device).unsqueeze(0)  #[1, 2048]\n",
        "\n",
        "attn = BRXAttention(config)\n",
        "attn(input_data, position_ids).size()"
      ],
      "metadata": {
        "colab": {
          "base_uri": "https://localhost:8080/"
        },
        "id": "a_nT_lSnBFA6",
        "outputId": "fd0c5417-b114-46b6-e5e8-c2a75c873a86"
      },
      "execution_count": null,
      "outputs": [
        {
          "output_type": "execute_result",
          "data": {
            "text/plain": [
              "torch.Size([5, 2048, 1024])"
            ]
          },
          "metadata": {},
          "execution_count": 9
        }
      ]
    },
    {
      "cell_type": "code",
      "source": [
        "count_parameters(attn)"
      ],
      "metadata": {
        "colab": {
          "base_uri": "https://localhost:8080/",
          "height": 35
        },
        "id": "0bnSPxZcBr9P",
        "outputId": "9dfc1728-c61a-4168-f52d-5794f10f94d1"
      },
      "execution_count": null,
      "outputs": [
        {
          "output_type": "execute_result",
          "data": {
            "text/plain": [
              "' Model size: 2.36M parameters'"
            ],
            "application/vnd.google.colaboratory.intrinsic+json": {
              "type": "string"
            }
          },
          "metadata": {},
          "execution_count": 10
        }
      ]
    },
    {
      "cell_type": "code",
      "source": [
        "class FeedForwardBlock(nn.Module):\n",
        "    def __init__(self, hidden_dim, intermediate_dim): # in MLP: intermediate_dim= 4 * hidden_dim\n",
        "        super().__init__()\n",
        "        self.linear_1 = nn.Linear(hidden_dim, intermediate_dim)\n",
        "        self.linear_2 = nn.Linear(hidden_dim, intermediate_dim) # Original: intermediate -> hidden.\n",
        "        self.activation_fn = nn.SiLU()\n",
        "        self.out_proj = nn.Linear(intermediate_dim, hidden_dim) # Original: dropout\n",
        "\n",
        "    def forward(self, hidden_states):\n",
        "        x_fc_1 = self.linear_1(hidden_states)\n",
        "        x_fc_2 = self.linear_2(hidden_states)\n",
        "        x = self.activation_fn(x_fc_1) * x_fc_2\n",
        "        return self.out_proj(x)"
      ],
      "metadata": {
        "id": "Jtez7py1JGU7"
      },
      "execution_count": null,
      "outputs": []
    },
    {
      "cell_type": "code",
      "source": [
        "class RMSNorm(nn.Module):\n",
        "  def __init__(self, hidden_size, eps=1e-6):\n",
        "    super().__init__()\n",
        "    #trainable parameter\n",
        "    self.weight = nn.Parameter(torch.ones(hidden_size))\n",
        "    self.variance_epsilon = eps\n",
        "\n",
        "  def forward(self, hidden_states):\n",
        "    # hidden states [B, T, hs]\n",
        "    input_dtype = hidden_states.dtype\n",
        "    hidden_states = hidden_states.to(torch.float32)\n",
        "    variance = hidden_states.pow(2).mean(-1, keepdim=True) # (1/n) * Σ x_i^2\n",
        "    hidden_state = hidden_states * torch.rsqrt(variance + self.variance_epsilon)\n",
        "    return self.weight * hidden_state.to(input_dtype)"
      ],
      "metadata": {
        "id": "9MrzocjOJ69O"
      },
      "execution_count": null,
      "outputs": []
    },
    {
      "cell_type": "code",
      "source": [
        "class BRXBLock(nn.Module):\n",
        "  def __init__(self, config):\n",
        "    super().__init__()\n",
        "    self.config = config\n",
        "\n",
        "    self.hidden_dim = hidden_dim = config.hidden_size\n",
        "    self.intermediate_dim = intermediate_dim = config.intermediate_size\n",
        "\n",
        "    self.attn = BRXAttention(config)\n",
        "\n",
        "    self.ffn = FeedForwardBlock(hidden_dim, intermediate_dim)\n",
        "    self.input_norm = RMSNorm(hidden_dim, eps=config.rms_norm_eps)\n",
        "    self.post_attention_norm = RMSNorm(hidden_dim, eps=config.rms_norm_eps)\n",
        "\n",
        "  def forward(\n",
        "        self,\n",
        "        hidden_states,\n",
        "        position_ids: Optional[torch.LongTensor] = None,\n",
        "        mask: Optional[torch.Tensor] = None,\n",
        "    ):\n",
        "        r = self.attn(self.input_norm(hidden_states), mask, position_ids)\n",
        "        h = hidden_states + r\n",
        "        r = self.ffn(self.post_attention_norm(h))\n",
        "        out = h + r\n",
        "        return out\n"
      ],
      "metadata": {
        "id": "uH7l8rhGMY9m"
      },
      "execution_count": null,
      "outputs": []
    },
    {
      "cell_type": "code",
      "source": [
        "seq_len = 2048\n",
        "block = BRXBLock(config)\n",
        "position_ids = torch.arange(seq_len, dtype=torch.long, device = config.device)\n",
        "block(input_data)"
      ],
      "metadata": {
        "colab": {
          "base_uri": "https://localhost:8080/"
        },
        "id": "B3svblwxNvYP",
        "outputId": "8142476a-99a0-4f73-8baf-1f82b8be007d"
      },
      "execution_count": null,
      "outputs": [
        {
          "output_type": "execute_result",
          "data": {
            "text/plain": [
              "tensor([[[ 0.0251,  0.6258, -0.5950,  ...,  1.2009,  0.3768,  0.1205],\n",
              "         [ 0.8227,  0.6238, -0.1216,  ...,  1.1480,  0.4677,  0.0830],\n",
              "         [ 0.8946,  0.8118, -0.0104,  ...,  0.1553,  0.4919,  0.4164],\n",
              "         ...,\n",
              "         [ 0.7332,  0.3191,  0.5046,  ...,  0.6981,  0.4027,  0.9353],\n",
              "         [ 0.6341, -0.2303,  0.3370,  ...,  0.5877,  1.1383,  0.4717],\n",
              "         [ 0.8888,  0.2992,  0.0108,  ...,  0.6900,  0.6446,  1.2076]],\n",
              "\n",
              "        [[ 0.9524,  0.6950, -0.4568,  ...,  0.5980,  0.6820,  0.2848],\n",
              "         [ 0.4866,  0.6649, -0.0090,  ...,  0.8755,  0.6309, -0.2794],\n",
              "         [ 0.4561,  0.7406, -0.1167,  ...,  0.8202,  0.1092, -0.0469],\n",
              "         ...,\n",
              "         [ 0.7212, -0.1806,  0.4116,  ...,  0.2203,  1.2673,  1.0953],\n",
              "         [ 1.0061,  0.5808,  0.2973,  ...,  0.5449,  0.4272,  0.9056],\n",
              "         [ 0.6391,  0.3757,  0.5734,  ...,  0.2448,  0.9701,  1.0828]],\n",
              "\n",
              "        [[ 0.2343,  0.5440, -0.3211,  ...,  0.4665,  0.8679,  0.4817],\n",
              "         [ 0.0765,  0.3270, -0.8029,  ...,  0.1876,  0.4294,  0.6091],\n",
              "         [ 0.5619,  0.6858, -0.5624,  ...,  0.3735,  0.8753,  0.0111],\n",
              "         ...,\n",
              "         [ 0.9278,  0.3939, -0.2027,  ...,  0.5489,  0.8809,  0.2990],\n",
              "         [ 0.8773, -0.1134, -0.0743,  ...,  1.0011,  0.6910,  0.9331],\n",
              "         [ 0.6825,  0.0701, -0.0138,  ...,  0.5284,  1.0955,  0.3215]],\n",
              "\n",
              "        [[ 0.2925,  0.9995, -0.2997,  ...,  0.5824,  0.7175, -0.3183],\n",
              "         [ 0.2367,  0.6024, -0.5367,  ...,  0.6074,  0.2870, -0.1037],\n",
              "         [ 0.1411,  0.7309, -0.4594,  ...,  0.7802,  0.2984,  0.7086],\n",
              "         ...,\n",
              "         [ 0.4345,  0.6436,  0.0917,  ...,  0.2437,  1.4425,  0.5585],\n",
              "         [ 0.8357,  0.2530,  0.6349,  ...,  0.2543,  0.4167,  0.4495],\n",
              "         [ 0.5791,  0.1565,  0.5499,  ...,  1.0599,  0.8224,  0.2194]],\n",
              "\n",
              "        [[ 0.1498,  0.3873,  0.0562,  ...,  1.0568,  0.8394, -0.3329],\n",
              "         [ 0.4247,  0.2646, -0.6334,  ...,  0.6711,  0.6274,  0.3448],\n",
              "         [ 0.1322,  0.6237, -0.2926,  ...,  1.0335,  0.5773,  0.1777],\n",
              "         ...,\n",
              "         [ 1.1071,  0.2288,  0.5707,  ...,  0.8759,  0.6197,  0.8130],\n",
              "         [ 1.0967,  0.5914,  0.4462,  ...,  0.8257,  0.7710,  1.1532],\n",
              "         [ 0.6407,  0.1261,  0.7647,  ...,  0.4984,  1.0700,  0.5186]]],\n",
              "       grad_fn=<AddBackward0>)"
            ]
          },
          "metadata": {},
          "execution_count": 14
        }
      ]
    },
    {
      "cell_type": "code",
      "source": [
        "class BRXModel(nn.Module):\n",
        "  def __init__(self, config:BRXConfig):\n",
        "    super().__init__()\n",
        "    self.config = config\n",
        "    self.hidden_dim = hidden_dim = config.hidden_size\n",
        "    self.vocab_size = vocab_size = config.vocab_size\n",
        "    assert self.vocab_size > 0\n",
        "    self.num_hidden_layers = num_hidden_layers = config.num_hidden_layers\n",
        "\n",
        "    self.embed_tokens = nn.Embedding(vocab_size, hidden_dim)  # This will also get leared during the training\n",
        "    self.blocks = nn.ModuleList(\n",
        "      [BRXBLock(config) for _ in range(num_hidden_layers)]\n",
        "    )\n",
        "    self.norm = RMSNorm(hidden_dim, eps=config.rms_norm_eps)\n",
        "\n",
        "  def forward(\n",
        "        self,\n",
        "        hidden_states: torch.Tensor,  # [batch_size, seq_len, ids]\n",
        "        position_ids = None,\n",
        "        mask: Optional[torch.Tensor] = None,\n",
        "    ):\n",
        "\n",
        "      x = self.embed_tokens(hidden_states) # [batch_size, seq_len, hidden_size]\n",
        "\n",
        "      seq_len = hidden_states.size(1)\n",
        "      if position_ids is None:\n",
        "          position_ids = torch.arange(seq_len, dtype=torch.long, device=self.config.device).unsqueeze(0) #[1, seq_len]\n",
        "\n",
        "      for b in self.blocks:\n",
        "          x = b(x, position_ids, mask)\n",
        "\n",
        "      return self.norm(x)  #[batch_size, seq_len, hidden_size]"
      ],
      "metadata": {
        "id": "SkWUiApyN3up"
      },
      "execution_count": null,
      "outputs": []
    },
    {
      "cell_type": "code",
      "source": [
        "class BRXPreTrainedModel(PreTrainedModel):\n",
        "    config_class = BRXConfig\n",
        "    base_model_prefix = \"brx\"\n",
        "    supports_gradient_checkpointing = True\n",
        "    _skip_keys_device_placement = \"past_key_values\"  # do not place the past computed key and values on the device such as GPU when the model is moved to gpu.\n",
        "\n",
        "    def _init_weights(self, module):\n",
        "        std = self.config.initializer_range #0.2\n",
        "        if isinstance(module, nn.Linear):\n",
        "            module.weight.data.normal_(mean=0.0, std=std)  #initialize the weights according with mean=0 std=0.2\n",
        "            if module.bias is not None:\n",
        "                module.bias.data.zero_()\n",
        "        elif isinstance(module, nn.Embedding):\n",
        "            module.weight.data.normal_(mean=0.0, std=std)\n",
        "            if module.padding_idx is not None:\n",
        "                module.weight.data[module.padding_idx].zero_()\n",
        "\n",
        "class BRXForCausalLM(BRXPreTrainedModel):\n",
        "    def __init__(self, config):\n",
        "        super().__init__(config)\n",
        "        self.model = BRXModel(config)\n",
        "        self.vocab_size = config.vocab_size\n",
        "        self.lm_head = nn.Linear(config.hidden_size, self.vocab_size, bias=config.lm_head_bias)\n",
        "        self.post_init()\n",
        "\n",
        "    def forward(\n",
        "        self,\n",
        "        input_ids = None,\n",
        "        attention_mask: Optional[torch.Tensor] = None,\n",
        "        position_ids: Optional[torch.LongTensor] = None,\n",
        "        labels: Optional[torch.LongTensor] = None, # []\n",
        "    ):\n",
        "      outputs = self.model(\n",
        "        hidden_states=input_ids,\n",
        "        mask=attention_mask,\n",
        "        position_ids=position_ids,\n",
        "      ) ## [batch_size, seq_len, hidden_dim]\n",
        "      logits = self.lm_head(outputs)  #[batch_size, seq_len, vocab_size]\n",
        "      logits = logits.float()\n",
        "\n",
        "      loss = None\n",
        "      if labels is not None:\n",
        "            # shift so that tokens < n predict n\n",
        "            shift_logits = logits[..., :-1, :].contiguous() #words taken [0 -> last-1]\n",
        "            shift_labels = labels[..., 1:].contiguous() #words taken [1 -> last]\n",
        "            # Flatten the tokens\n",
        "            shift_logits = shift_logits.view(-1, self.config.vocab_size)\n",
        "            shift_labels = shift_labels.view(-1)\n",
        "            # Ensure tensors are on the same device\n",
        "            shift_labels = shift_labels.to(shift_logits.device)\n",
        "            loss_fct = CrossEntropyLoss()\n",
        "            loss = loss_fct(shift_logits, shift_labels)\n",
        "\n",
        "\n",
        "      return CausalLMOutputWithPast(\n",
        "          loss=loss,\n",
        "          logits=logits,  #untransformed\n",
        "      ) # [batch, seq_len, hidden_size]\n"
      ],
      "metadata": {
        "id": "srzLyRCoRW3y"
      },
      "execution_count": null,
      "outputs": []
    },
    {
      "cell_type": "code",
      "source": [
        "device = \"cpu\"\n",
        "config = BRXConfig(device=device)\n",
        "batch_size = 5\n",
        "sequence_length = config.max_position_embeddings\n",
        "brx = BRXForCausalLM(config)\n",
        "input_ids = torch.randint(1, config.vocab_size,  (batch_size, sequence_length), device = config.device)"
      ],
      "metadata": {
        "id": "Ag-WIiFjTtOJ"
      },
      "execution_count": null,
      "outputs": []
    },
    {
      "cell_type": "code",
      "source": [
        "outputs = brx(input_ids)\n",
        "outputs"
      ],
      "metadata": {
        "colab": {
          "base_uri": "https://localhost:8080/"
        },
        "id": "DKhYoQ4jUh_p",
        "outputId": "c8fb65b8-6e8a-4500-81ba-810064fd4b2b"
      },
      "execution_count": null,
      "outputs": [
        {
          "output_type": "execute_result",
          "data": {
            "text/plain": [
              "CausalLMOutputWithPast(loss=None, logits=tensor([[[-0.6471,  1.1560,  0.3832,  ..., -0.5267, -0.8781, -0.1881],\n",
              "         [ 0.3825,  1.2757,  0.7336,  ...,  0.5424, -0.0634, -0.1192],\n",
              "         [ 0.7989, -0.1757, -0.1991,  ..., -0.5755,  0.5808, -0.1110],\n",
              "         ...,\n",
              "         [-0.1600, -0.3447, -0.3126,  ..., -0.5578,  1.1859,  2.0270],\n",
              "         [-0.2300,  0.0533, -0.8319,  ..., -0.4022, -0.6401,  0.9655],\n",
              "         [-0.5259,  0.7973,  0.3103,  ..., -0.8209, -0.3896,  1.3625]],\n",
              "\n",
              "        [[ 1.0229,  0.3054, -1.7574,  ..., -0.6747,  0.4738,  0.4320],\n",
              "         [-0.7087,  0.6187,  0.0734,  ...,  0.4521, -0.4249, -1.1668],\n",
              "         [ 1.3756,  0.2116, -0.0051,  ...,  0.0120, -0.9926,  0.3367],\n",
              "         ...,\n",
              "         [-0.7921,  0.7095,  1.0256,  ..., -0.6763, -0.4153,  1.0393],\n",
              "         [-0.6158, -0.0083,  0.0076,  ...,  0.7838, -0.2367,  0.6458],\n",
              "         [-0.6262,  0.1442,  0.1058,  ..., -0.2478, -0.3756,  0.5328]],\n",
              "\n",
              "        [[-0.4676, -0.3840, -0.1927,  ..., -1.3687, -0.3806,  0.9396],\n",
              "         [ 0.1463, -0.3776,  0.6257,  ..., -1.2337,  0.4248,  0.1062],\n",
              "         [-0.9121, -0.2066, -0.8116,  ..., -0.7254, -0.5215,  0.4779],\n",
              "         ...,\n",
              "         [ 0.1194, -1.1521, -0.3225,  ..., -0.4596, -0.3502,  0.7485],\n",
              "         [-0.2690, -0.3530, -0.8429,  ..., -0.0422,  0.3303, -0.4837],\n",
              "         [ 0.1945, -0.2364, -0.1472,  ...,  0.8795, -1.3096, -0.6674]],\n",
              "\n",
              "        [[ 0.2413,  1.0475, -0.3103,  ..., -0.6004, -0.0428,  0.4540],\n",
              "         [ 0.4176,  0.8694, -0.4012,  ..., -0.1885,  0.3711,  0.1939],\n",
              "         [ 0.0555,  0.4941,  0.8694,  ..., -1.2178,  1.6326,  1.4334],\n",
              "         ...,\n",
              "         [-0.5484, -0.2001, -0.2446,  ..., -0.8339,  0.7241,  1.0895],\n",
              "         [ 0.4178,  1.4279, -0.1709,  ..., -0.7229,  0.0824, -0.5004],\n",
              "         [ 0.4993,  0.1253, -0.1061,  ..., -0.4459, -0.1388, -0.1936]],\n",
              "\n",
              "        [[-0.1320,  0.5641, -0.4479,  ..., -0.5314, -1.1973, -0.7442],\n",
              "         [ 0.0255,  1.0840,  0.1663,  ...,  1.0616, -0.6343,  0.6234],\n",
              "         [ 0.1999, -0.3546, -0.1700,  ..., -0.3889,  1.2646, -0.9449],\n",
              "         ...,\n",
              "         [-0.5848,  0.5586,  0.1791,  ..., -0.5461, -0.1685, -0.0500],\n",
              "         [ 0.1088,  0.9990, -0.2093,  ..., -0.7785, -0.6807, -0.6509],\n",
              "         [-0.7199,  0.9499,  0.1280,  ..., -0.0736,  0.0063,  0.3216]]],\n",
              "       grad_fn=<UnsafeViewBackward0>), past_key_values=None, hidden_states=None, attentions=None)"
            ]
          },
          "metadata": {},
          "execution_count": 18
        }
      ]
    },
    {
      "cell_type": "code",
      "source": [
        "outputs[0].shape"
      ],
      "metadata": {
        "colab": {
          "base_uri": "https://localhost:8080/"
        },
        "id": "tgTGO0v3UxzG",
        "outputId": "094a4d30-5d9c-4b1b-a832-ee1798137957"
      },
      "execution_count": null,
      "outputs": [
        {
          "output_type": "execute_result",
          "data": {
            "text/plain": [
              "torch.Size([5, 2048, 32000])"
            ]
          },
          "metadata": {},
          "execution_count": 19
        }
      ]
    },
    {
      "cell_type": "code",
      "source": [
        "from datasets import load_dataset\n",
        "\n",
        "torch.manual_seed(64)\n",
        "\n",
        "train_dataset = load_dataset(\"huggingface-course/codeparrot-ds-train\", split=\"train[:1%]\")\n",
        "val_dataset = load_dataset(\"huggingface-course/codeparrot-ds-valid\")"
      ],
      "metadata": {
        "colab": {
          "base_uri": "https://localhost:8080/",
          "height": 269,
          "referenced_widgets": [
            "2fa78cd8928549d9a7c1f58f17aa64bb",
            "3434169956df44f29ebc07f5dfb6ad4f",
            "83dab76c9dc54b338412d0e0470bc2c0",
            "1c419df4431f4b219a7869c4e03e37bc",
            "7732551abba043f597d08c2f543c63e1",
            "a2b15763690748f1bfb1f5c4b8cadca3",
            "4a3665733f6d4c35995f949d090fff9e",
            "e492e28d5a144733af656b0101ae180e",
            "604165e84d2848968bb430b164b3f812",
            "26a2246c340947fc9a3c117761f6314b",
            "8198d7935a4343c58d2942b791c4f083",
            "8cf64ee94611421686716f6146364ec7",
            "f3c39ae7e2fc43b9a32aeb8bd5e5c1d4",
            "e435f4f3f0b44941a04dd8a6d1723cbc",
            "07d47facbd244b0b9f0c103acb93b63b",
            "c6598300a9144d1fb322a1a34d70279b",
            "f770d270c63a4caaaec872c0e24eadb5",
            "88a791ab2e3c427591cc5fa8034b920c",
            "84024f053d3a46d29e61674774597a27",
            "0aad2f150560447a9c3dcc6ae62605ae",
            "e4b7fe337c8240c7b9a0b77c650bbae2",
            "3842a31d1da14729a8549998abe41cec",
            "ce2582965e834a959700fb84d9aa888f",
            "c06ce3f5843446d286627a54aff1ecdd",
            "80003ca1bec547c58f80f1e0930f3f53",
            "2e9ab99273ea4d71a0d786772a262f83",
            "8cea742376d2408eacd585b9fa0e01a4",
            "a8efdf4b05914cfabb1207a1d60a0328",
            "03b06f20d16c4529b8652dd3ae4f8726",
            "5965e26e2b734cbb9a1301a9aff53ca9",
            "cf691998f8ae495e9aee48a379e8e746",
            "20d435ea8f0c4dbeac2048b63a2c2027",
            "1631a4cc507e45a0aff5304480c0fd63",
            "bf02b0225aaf4ea1bfbb6f1c6849841d",
            "4144de0e2c7c49f297dfa0da2063ee70",
            "762c1de80f3b4fb0a10d42f702cf826d",
            "505afdd8c04b48a3aad2a097c87d0c7b",
            "9a3ebdf5b95c416daf87c2869a42e35f",
            "e5a57702cd9c41138b924eee3c7b91f7",
            "5eb372afba5741009b692971e67a1076",
            "80ac4ddbdedd4f03b066e1bd458124f9",
            "7b8f68b3315d4aee8111c95739027f9b",
            "1b55bf8e5f8f4d0ca5e2ea37db91ea41",
            "426c0579014b4a99abc64e3ac8b40ab7"
          ]
        },
        "id": "mQ6KroGxXVzv",
        "outputId": "242a70e1-95e2-4d24-b3c7-35b48f7440a2"
      },
      "execution_count": null,
      "outputs": [
        {
          "output_type": "stream",
          "name": "stderr",
          "text": [
            "/usr/local/lib/python3.10/dist-packages/huggingface_hub/utils/_token.py:89: UserWarning: \n",
            "The secret `HF_TOKEN` does not exist in your Colab secrets.\n",
            "To authenticate with the Hugging Face Hub, create a token in your settings tab (https://huggingface.co/settings/tokens), set it as secret in your Google Colab and restart your session.\n",
            "You will be able to reuse this secret in all of your notebooks.\n",
            "Please note that authentication is recommended but still optional to access public models or datasets.\n",
            "  warnings.warn(\n"
          ]
        },
        {
          "output_type": "display_data",
          "data": {
            "text/plain": [
              "Downloading data:   0%|          | 0.00/8.25G [00:00<?, ?B/s]"
            ],
            "application/vnd.jupyter.widget-view+json": {
              "version_major": 2,
              "version_minor": 0,
              "model_id": "2fa78cd8928549d9a7c1f58f17aa64bb"
            }
          },
          "metadata": {}
        },
        {
          "output_type": "display_data",
          "data": {
            "text/plain": [
              "Generating train split: 0 examples [00:00, ? examples/s]"
            ],
            "application/vnd.jupyter.widget-view+json": {
              "version_major": 2,
              "version_minor": 0,
              "model_id": "8cf64ee94611421686716f6146364ec7"
            }
          },
          "metadata": {}
        },
        {
          "output_type": "display_data",
          "data": {
            "text/plain": [
              "Downloading data:   0%|          | 0.00/46.1M [00:00<?, ?B/s]"
            ],
            "application/vnd.jupyter.widget-view+json": {
              "version_major": 2,
              "version_minor": 0,
              "model_id": "ce2582965e834a959700fb84d9aa888f"
            }
          },
          "metadata": {}
        },
        {
          "output_type": "display_data",
          "data": {
            "text/plain": [
              "Generating validation split: 0 examples [00:00, ? examples/s]"
            ],
            "application/vnd.jupyter.widget-view+json": {
              "version_major": 2,
              "version_minor": 0,
              "model_id": "bf02b0225aaf4ea1bfbb6f1c6849841d"
            }
          },
          "metadata": {}
        }
      ]
    },
    {
      "cell_type": "code",
      "source": [
        "from datasets import Dataset, DatasetDict\n",
        "train_dataset= DatasetDict({'train': train_dataset})\n",
        "train_dataset"
      ],
      "metadata": {
        "colab": {
          "base_uri": "https://localhost:8080/"
        },
        "id": "0Q1CJ6Fo1FYj",
        "outputId": "20033b26-3516-4834-c5f5-76aa166c0b00"
      },
      "execution_count": null,
      "outputs": [
        {
          "output_type": "execute_result",
          "data": {
            "text/plain": [
              "DatasetDict({\n",
              "    train: Dataset({\n",
              "        features: ['repo_name', 'path', 'copies', 'size', 'content', 'license'],\n",
              "        num_rows: 6067\n",
              "    })\n",
              "})"
            ]
          },
          "metadata": {},
          "execution_count": 25
        }
      ]
    },
    {
      "cell_type": "code",
      "source": [
        "from transformers import AutoTokenizer\n",
        "\n",
        "#using the mistral tokenizer which is byte pair encoded\n",
        "tokenizer = AutoTokenizer.from_pretrained(\n",
        "    \"mistralai/Mistral-7B-v0.1\",\n",
        "    add_eos_roken=True,\n",
        "    padding_side='right', #auto left for mistral based models\n",
        "    )"
      ],
      "metadata": {
        "id": "YTA2VjDbcqiN"
      },
      "execution_count": null,
      "outputs": []
    },
    {
      "cell_type": "code",
      "source": [
        "tokenizer"
      ],
      "metadata": {
        "colab": {
          "base_uri": "https://localhost:8080/"
        },
        "id": "bf5Eo3W7fJkq",
        "outputId": "6e537d23-eae2-40d8-c55e-fe0bf125e6de"
      },
      "execution_count": null,
      "outputs": [
        {
          "output_type": "execute_result",
          "data": {
            "text/plain": [
              "LlamaTokenizerFast(name_or_path='mistralai/Mistral-7B-v0.1', vocab_size=32000, model_max_length=1000000000000000019884624838656, is_fast=True, padding_side='right', truncation_side='right', special_tokens={'bos_token': '<s>', 'eos_token': '</s>', 'unk_token': '<unk>'}, clean_up_tokenization_spaces=False),  added_tokens_decoder={\n",
              "\t0: AddedToken(\"<unk>\", rstrip=False, lstrip=False, single_word=False, normalized=False, special=True),\n",
              "\t1: AddedToken(\"<s>\", rstrip=False, lstrip=False, single_word=False, normalized=False, special=True),\n",
              "\t2: AddedToken(\"</s>\", rstrip=False, lstrip=False, single_word=False, normalized=False, special=True),\n",
              "}"
            ]
          },
          "metadata": {},
          "execution_count": 100
        }
      ]
    },
    {
      "cell_type": "code",
      "source": [
        "tokenizer.pad_token = tokenizer.unk_token"
      ],
      "metadata": {
        "id": "p-7OCXyFfzA8"
      },
      "execution_count": null,
      "outputs": []
    },
    {
      "cell_type": "code",
      "source": [
        "text = \"Hi I'm Brijesh and rij\"\n",
        "tokenizer(text).tokens()"
      ],
      "metadata": {
        "id": "R91R1yT6f9hx",
        "colab": {
          "base_uri": "https://localhost:8080/"
        },
        "outputId": "0209d26e-7e4b-41f2-8b0a-85bcf6b8176d"
      },
      "execution_count": null,
      "outputs": [
        {
          "output_type": "execute_result",
          "data": {
            "text/plain": [
              "['<s>', '▁Hi', '▁I', \"'\", 'm', '▁B', 'rij', 'esh', '▁and', '▁ri', 'j']"
            ]
          },
          "metadata": {},
          "execution_count": 34
        }
      ]
    },
    {
      "cell_type": "code",
      "source": [
        "text = train_dataset['train'][1]['content']\n",
        "for _ in range(5):\n",
        "  text += text"
      ],
      "metadata": {
        "id": "JsDmxn7OeP6P"
      },
      "execution_count": null,
      "outputs": []
    },
    {
      "cell_type": "code",
      "source": [
        "context_length = 1024\n",
        "tokens = tokenizer(\n",
        "  train_dataset['train'][1][\"content\"],\n",
        "  padding=True,\n",
        "  truncation=True,\n",
        "  max_length=context_length,\n",
        "  return_overflowing_tokens=True,\n",
        "  return_length=True,\n",
        ")\n",
        "\n",
        "# print(f\"Input IDs length: {len(tokens['input_ids'])}\")\n",
        "# print(f\"Input chunk lengths: {(tokens['length'])}\")\n",
        "# print(f\"Chunk mapping: {tokens['overflow_to_sample_mapping']}\")"
      ],
      "metadata": {
        "id": "68-6nfly0eM4"
      },
      "execution_count": null,
      "outputs": []
    },
    {
      "cell_type": "code",
      "source": [
        "import numpy as np\n",
        "\n",
        "a = np.array(tokens['input_ids'])\n",
        "a.shape\n",
        "a[2][1021:]"
      ],
      "metadata": {
        "colab": {
          "base_uri": "https://localhost:8080/"
        },
        "id": "Mf3C3_2ef-qe",
        "outputId": "b4471f5f-3ad3-4b80-dd90-19f4fbd99a07"
      },
      "execution_count": null,
      "outputs": [
        {
          "output_type": "execute_result",
          "data": {
            "text/plain": [
              "array([0, 0, 0])"
            ]
          },
          "metadata": {},
          "execution_count": 104
        }
      ]
    },
    {
      "cell_type": "code",
      "source": [
        "print(f\"Input IDs length: {len(tokens['input_ids'])}\")\n",
        "print(f\"Input chunk lengths: {(tokens['length'])}\")"
      ],
      "metadata": {
        "colab": {
          "base_uri": "https://localhost:8080/"
        },
        "id": "Drg8nTEBejJI",
        "outputId": "78b4549c-ddb8-448d-8cc2-bda47856b8dd"
      },
      "execution_count": null,
      "outputs": [
        {
          "output_type": "stream",
          "name": "stdout",
          "text": [
            "Input IDs length: 229\n",
            "Input chunk lengths: [10, 10, 10, 10, 10, 10, 10, 10, 10, 10, 10, 10, 10, 10, 10, 10, 10, 10, 10, 10, 10, 10, 10, 10, 10, 10, 10, 10, 10, 10, 10, 10, 10, 10, 10, 10, 10, 10, 10, 10, 10, 10, 10, 10, 10, 10, 10, 10, 10, 10, 10, 10, 10, 10, 10, 10, 10, 10, 10, 10, 10, 10, 10, 10, 10, 10, 10, 10, 10, 10, 10, 10, 10, 10, 10, 10, 10, 10, 10, 10, 10, 10, 10, 10, 10, 10, 10, 10, 10, 10, 10, 10, 10, 10, 10, 10, 10, 10, 10, 10, 10, 10, 10, 10, 10, 10, 10, 10, 10, 10, 10, 10, 10, 10, 10, 10, 10, 10, 10, 10, 10, 10, 10, 10, 10, 10, 10, 10, 10, 10, 10, 10, 10, 10, 10, 10, 10, 10, 10, 10, 10, 10, 10, 10, 10, 10, 10, 10, 10, 10, 10, 10, 10, 10, 10, 10, 10, 10, 10, 10, 10, 10, 10, 10, 10, 10, 10, 10, 10, 10, 10, 10, 10, 10, 10, 10, 10, 10, 10, 10, 10, 10, 10, 10, 10, 10, 10, 10, 10, 10, 10, 10, 10, 10, 10, 10, 10, 10, 10, 10, 10, 10, 10, 10, 10, 10, 10, 10, 10, 10, 10, 10, 10, 10, 10, 10, 10, 10, 10, 10, 10, 10, 10, 10, 10, 10, 10, 10, 10]\n"
          ]
        }
      ]
    },
    {
      "cell_type": "code",
      "source": [
        "from transformers import DataCollatorForLanguageModeling  #collates different data together\n",
        "\n",
        "data_collator = DataCollatorForLanguageModeling(tokenizer, mlm=False, return_tensors=\"pt\") #mlm=True randomly assigns the  [Mask] tokens to the data\n",
        "sample = data_collator.torch_call([tokens])"
      ],
      "metadata": {
        "id": "tD_2PuZt1aIP"
      },
      "execution_count": null,
      "outputs": []
    },
    {
      "cell_type": "code",
      "source": [
        "sample['attention_mask']"
      ],
      "metadata": {
        "colab": {
          "base_uri": "https://localhost:8080/"
        },
        "id": "OLOUrHxv3LyQ",
        "outputId": "65e0d597-fd6a-43fc-8728-6704f1c695e0"
      },
      "execution_count": null,
      "outputs": [
        {
          "output_type": "execute_result",
          "data": {
            "text/plain": [
              "tensor([[[1, 1, 1,  ..., 1, 1, 1],\n",
              "         [1, 1, 1,  ..., 1, 1, 1],\n",
              "         [1, 1, 1,  ..., 0, 0, 0]]])"
            ]
          },
          "metadata": {},
          "execution_count": 111
        }
      ]
    },
    {
      "cell_type": "code",
      "source": [
        "sample['input_ids']"
      ],
      "metadata": {
        "colab": {
          "base_uri": "https://localhost:8080/"
        },
        "id": "woHh8aFJ3Tc3",
        "outputId": "2e4ecf63-de3e-4a02-8257-cf7899f89eba"
      },
      "execution_count": null,
      "outputs": [
        {
          "output_type": "execute_result",
          "data": {
            "text/plain": [
              "tensor([[[    1,  3504,    13,  ..., 28750,  2974, 28705],\n",
              "         [    1,   422,   297,  ...,   548,    13, 17422],\n",
              "         [    1,   277,  2022,  ...,     0,     0,     0]]])"
            ]
          },
          "metadata": {},
          "execution_count": 107
        }
      ]
    },
    {
      "cell_type": "code",
      "source": [
        "outputs = brx(input_ids=sample['input_ids'][0], labels=sample['labels'][0])"
      ],
      "metadata": {
        "id": "ubc8yXJq3hXG"
      },
      "execution_count": null,
      "outputs": []
    },
    {
      "cell_type": "code",
      "source": [
        "outputs"
      ],
      "metadata": {
        "colab": {
          "base_uri": "https://localhost:8080/"
        },
        "id": "zzhZrurb30yS",
        "outputId": "ff88c1d0-bfbf-43b0-fbd8-80e9d9922f37"
      },
      "execution_count": null,
      "outputs": [
        {
          "output_type": "execute_result",
          "data": {
            "text/plain": [
              "CausalLMOutputWithPast(loss=tensor(10.5116, grad_fn=<NllLossBackward0>), logits=tensor([[[-0.7529,  0.2396, -0.2563,  ..., -1.2040, -1.3086, -1.0972],\n",
              "         [-1.1731,  0.3528,  0.1746,  ..., -1.1790, -1.5978, -0.8979],\n",
              "         [-0.9041, -0.1104, -0.0425,  ..., -1.3452, -1.4894, -0.5970],\n",
              "         ...,\n",
              "         [ 0.1771,  0.5808,  0.1633,  ..., -0.7305,  0.4999, -0.3825],\n",
              "         [ 0.1788,  0.2870,  0.4717,  ..., -0.6304, -0.0235, -0.0608],\n",
              "         [ 0.2922,  0.2619,  0.2344,  ..., -0.4923,  0.2149, -0.0949]],\n",
              "\n",
              "        [[-0.7464, -0.1366, -0.6549,  ..., -0.5066, -0.4534, -0.3477],\n",
              "         [-0.7560, -0.0853, -0.1236,  ..., -0.1410, -0.3382, -0.4144],\n",
              "         [-0.4240, -0.0217, -0.1214,  ...,  0.0272, -0.7891, -0.3101],\n",
              "         ...,\n",
              "         [ 0.0941, -0.8053,  0.5980,  ..., -0.2144,  0.4841, -0.0680],\n",
              "         [ 0.0788, -1.0478,  0.9114,  ..., -0.2046,  0.8424, -0.4675],\n",
              "         [ 0.4607, -0.1349,  0.1804,  ...,  0.0939,  0.3921, -0.3445]],\n",
              "\n",
              "        [[ 0.3538,  0.7373, -0.8192,  ...,  0.4765, -0.7333,  0.8432],\n",
              "         [ 0.2993,  0.7645, -0.8186,  ...,  0.4168, -0.7331,  0.8550],\n",
              "         [ 0.2623,  0.7568, -0.8347,  ...,  0.4426, -0.7358,  0.8677],\n",
              "         ...,\n",
              "         [ 0.2812,  0.2420, -0.1409,  ..., -0.0247,  0.8935, -0.5732],\n",
              "         [ 0.2801,  0.2336, -0.1622,  ..., -0.0213,  0.8805, -0.5320],\n",
              "         [ 0.2893,  0.2207, -0.1525,  ..., -0.0153,  0.9015, -0.5520]]],\n",
              "       grad_fn=<UnsafeViewBackward0>), past_key_values=None, hidden_states=None, attentions=None)"
            ]
          },
          "metadata": {},
          "execution_count": 110
        }
      ]
    },
    {
      "cell_type": "code",
      "source": [
        "outputs.logits.shape  #batch_size, seq_len, vocab_size"
      ],
      "metadata": {
        "colab": {
          "base_uri": "https://localhost:8080/"
        },
        "id": "4F5suXwS38VR",
        "outputId": "48edf851-951d-4056-b64f-d3a0d8200810"
      },
      "execution_count": null,
      "outputs": [
        {
          "output_type": "execute_result",
          "data": {
            "text/plain": [
              "torch.Size([3, 1024, 32000])"
            ]
          },
          "metadata": {},
          "execution_count": 112
        }
      ]
    },
    {
      "cell_type": "code",
      "source": [
        "F.softmax(outputs.logits, dim=-1).shape"
      ],
      "metadata": {
        "colab": {
          "base_uri": "https://localhost:8080/"
        },
        "id": "Zb5AXmGlniRO",
        "outputId": "3d1edab0-c15c-4441-aa30-229a7998527e"
      },
      "execution_count": null,
      "outputs": [
        {
          "output_type": "execute_result",
          "data": {
            "text/plain": [
              "torch.Size([3, 1024, 32000])"
            ]
          },
          "metadata": {},
          "execution_count": 115
        }
      ]
    },
    {
      "cell_type": "code",
      "source": [
        "ids = torch.argmax(F.softmax(outputs.logits, dim=-1), dim=-1)"
      ],
      "metadata": {
        "id": "9y_Fu4XN4Eky"
      },
      "execution_count": null,
      "outputs": []
    },
    {
      "cell_type": "code",
      "source": [
        "tokenizer.batch_decode(ids)"
      ],
      "metadata": {
        "id": "zcyGzEqrnbmo"
      },
      "execution_count": null,
      "outputs": []
    },
    {
      "cell_type": "code",
      "source": [
        "tokenized_train_dataset = train_dataset.map(\n",
        "    tokenize, batched=True, remove_columns=train_dataset.column_names\n",
        ")"
      ],
      "metadata": {
        "id": "wVsEM_pwtVFT"
      },
      "execution_count": null,
      "outputs": []
    },
    {
      "cell_type": "code",
      "source": [
        "from transformers import TrainingArguments, Trainer\n",
        "\n",
        "args = TrainingArguments(\n",
        "    \"./brx\",\n",
        "    per_device_train_batch_size=32,\n",
        "    max_steps=2000,\n",
        "    num_train_epochs=2,\n",
        "    logging_steps=10,\n",
        "    gradient_accumulation_steps=2,\n",
        "    weight_decay=0.1,\n",
        "    warmup_steps= 1_000,\n",
        "    lr_scheduler_type=\"cosine\",\n",
        "    learning_rate=5e-4,\n",
        "    save_steps=500,\n",
        "    fp16=True,\n",
        "    push_to_hub=False,\n",
        ")"
      ],
      "metadata": {
        "id": "M27ABE-ltb-9"
      },
      "execution_count": null,
      "outputs": []
    },
    {
      "cell_type": "code",
      "source": [
        "trainer = Trainer(\n",
        "    model=brx,\n",
        "    tokenizer=tokenizer,\n",
        "    args=args,\n",
        "    data_collator=data_collator,\n",
        "    train_dataset=tokenized_train_dataset\n",
        ")"
      ],
      "metadata": {
        "id": "3p4_OY7Vte3J"
      },
      "execution_count": null,
      "outputs": []
    },
    {
      "cell_type": "code",
      "source": [
        "trainer.train()"
      ],
      "metadata": {
        "id": "vGK-v-imthGO"
      },
      "execution_count": null,
      "outputs": []
    },
    {
      "cell_type": "code",
      "source": [
        "temperature = 1\n",
        "top_k = None\n",
        "top_p = None\n",
        "\n",
        "# Generate the tokens one by one\n",
        "for _ in range(10):\n",
        "    # Get the logits from the model\n",
        "    outputs = brx(input_ids)\n",
        "    logits = outputs.logits[:, -1, :]\n",
        "\n",
        "    # Apply temperature scaling\n",
        "    logits = logits / temperature\n",
        "\n",
        "    # Apply top-k or top-p sampling if specified\n",
        "    if top_k is not None:\n",
        "        logits = logits.topk(top_k, dim=-1)[0]\n",
        "    elif top_p is not None:\n",
        "        sorted_logits, sorted_indices = torch.sort(logits, descending=True)\n",
        "        cumulative_probs = torch.cumsum(F.softmax(sorted_logits, dim=-1), dim=-1)\n",
        "        sorted_indices_to_remove = cumulative_probs > top_p\n",
        "        sorted_indices_to_remove[:, 1:] = sorted_indices_to_remove[:, :-1].clone()\n",
        "        sorted_indices_to_remove[:, 0] = 0\n",
        "        indices_to_remove = sorted_indices_to_remove.scatter(1, sorted_indices, sorted_indices_to_remove)\n",
        "        logits = logits.masked_fill(indices_to_remove, -float('inf'))\n",
        "\n",
        "    # Sample the next token from the logits\n",
        "    next_token_id = torch.multinomial(F.softmax(logits, dim=-1), num_samples=1)\n",
        "\n",
        "    # Update the input with the new token\n",
        "    input_ids = torch.cat([input_ids, next_token_id], dim=-1)\n",
        "\n",
        "# Decode the generated text\n",
        "generated_text = tokenizer.decode(input_ids[0], skip_special_tokens=True)"
      ],
      "metadata": {
        "id": "gugP1tlPn2WO"
      },
      "execution_count": null,
      "outputs": []
    }
  ]
}